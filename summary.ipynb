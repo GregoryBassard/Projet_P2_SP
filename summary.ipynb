{
 "cells": [
  {
   "cell_type": "code",
   "execution_count": 1,
   "id": "63ead832",
   "metadata": {},
   "outputs": [],
   "source": [
    "import plotly.graph_objects as go\n",
    "import dash\n",
    "from dash import dcc, html\n",
    "from dash.dependencies import Input, Output\n",
    "from app_import.utils import load_solar_system, create_3d_axes, display_neos_with_thread, display_neos_without_thread\n",
    "from app_import.NEOs import NEOs, load_neos\n",
    "from app_import.Html import create_layout\n",
    "import time\n",
    "import os\n",
    "from dotenv import load_dotenv"
   ]
  },
  {
   "cell_type": "code",
   "execution_count": 2,
   "id": "db2a968a",
   "metadata": {},
   "outputs": [],
   "source": [
    "neos = load_neos(1e-6, -4, 2)\n",
    "neo = neos[0]"
   ]
  },
  {
   "cell_type": "code",
   "execution_count": null,
   "id": "7998b04f",
   "metadata": {},
   "outputs": [
    {
     "data": {
      "application/vnd.microsoft.datawrangler.viewer.v0+json": {
       "columns": [
        {
         "name": "index",
         "rawType": "object",
         "type": "string"
        },
        {
         "name": "value",
         "rawType": "object",
         "type": "unknown"
        }
       ],
       "conversionMethod": "pd.DataFrame",
       "ref": "b48e6245-2cdf-4396-99f4-c2d88050de0d",
       "rows": [
        [
         "diameter",
         "0.0370000000000001"
        ],
        [
         "energy",
         "1.047e+00"
        ],
        [
         "first_obs",
         "1999-05-15"
        ],
        [
         "h",
         "24.79"
        ],
        [
         "ip",
         "0.002743395186"
        ],
        [
         "last_obs",
         "2000-10-03"
        ],
        [
         "mass",
         "6.98e+07"
        ],
        [
         "n_imp",
         "300"
        ],
        [
         "ps_cum",
         "-2.77"
        ],
        [
         "ps_max",
         "-3.12"
        ],
        [
         "ts_max",
         "0"
        ],
        [
         "v_imp",
         "11.23"
        ],
        [
         "v_inf",
         "1.36"
        ]
       ],
       "shape": {
        "columns": 1,
        "rows": 13
       }
      },
      "text/html": [
       "<div>\n",
       "<style scoped>\n",
       "    .dataframe tbody tr th:only-of-type {\n",
       "        vertical-align: middle;\n",
       "    }\n",
       "\n",
       "    .dataframe tbody tr th {\n",
       "        vertical-align: top;\n",
       "    }\n",
       "\n",
       "    .dataframe thead th {\n",
       "        text-align: right;\n",
       "    }\n",
       "</style>\n",
       "<table border=\"1\" class=\"dataframe\">\n",
       "  <thead>\n",
       "    <tr style=\"text-align: right;\">\n",
       "      <th></th>\n",
       "      <th>value</th>\n",
       "    </tr>\n",
       "  </thead>\n",
       "  <tbody>\n",
       "    <tr>\n",
       "      <th>diameter</th>\n",
       "      <td>0.0370000000000001</td>\n",
       "    </tr>\n",
       "    <tr>\n",
       "      <th>energy</th>\n",
       "      <td>1.047e+00</td>\n",
       "    </tr>\n",
       "    <tr>\n",
       "      <th>first_obs</th>\n",
       "      <td>1999-05-15</td>\n",
       "    </tr>\n",
       "    <tr>\n",
       "      <th>h</th>\n",
       "      <td>24.79</td>\n",
       "    </tr>\n",
       "    <tr>\n",
       "      <th>ip</th>\n",
       "      <td>0.002743395186</td>\n",
       "    </tr>\n",
       "    <tr>\n",
       "      <th>last_obs</th>\n",
       "      <td>2000-10-03</td>\n",
       "    </tr>\n",
       "    <tr>\n",
       "      <th>mass</th>\n",
       "      <td>6.98e+07</td>\n",
       "    </tr>\n",
       "    <tr>\n",
       "      <th>n_imp</th>\n",
       "      <td>300</td>\n",
       "    </tr>\n",
       "    <tr>\n",
       "      <th>ps_cum</th>\n",
       "      <td>-2.77</td>\n",
       "    </tr>\n",
       "    <tr>\n",
       "      <th>ps_max</th>\n",
       "      <td>-3.12</td>\n",
       "    </tr>\n",
       "    <tr>\n",
       "      <th>ts_max</th>\n",
       "      <td>0</td>\n",
       "    </tr>\n",
       "    <tr>\n",
       "      <th>v_imp</th>\n",
       "      <td>11.23</td>\n",
       "    </tr>\n",
       "    <tr>\n",
       "      <th>v_inf</th>\n",
       "      <td>1.36</td>\n",
       "    </tr>\n",
       "  </tbody>\n",
       "</table>\n",
       "</div>"
      ],
      "text/plain": [
       "                        value\n",
       "diameter   0.0370000000000001\n",
       "energy              1.047e+00\n",
       "first_obs          1999-05-15\n",
       "h                       24.79\n",
       "ip             0.002743395186\n",
       "last_obs           2000-10-03\n",
       "mass                 6.98e+07\n",
       "n_imp                     300\n",
       "ps_cum                  -2.77\n",
       "ps_max                  -3.12\n",
       "ts_max                      0\n",
       "v_imp                   11.23\n",
       "v_inf                    1.36"
      ]
     },
     "execution_count": 6,
     "metadata": {},
     "output_type": "execute_result"
    }
   ],
   "source": [
    "neo.get_data_and_summary()\n",
    "\n",
    "# for key, value in neo.summary.items():\n",
    "#     print(f\"{key}: {value}\")\n",
    "\n",
    "neo.summary"
   ]
  },
  {
   "cell_type": "code",
   "execution_count": 8,
   "id": "014c613f",
   "metadata": {},
   "outputs": [],
   "source": [
    "import pandas as pd"
   ]
  },
  {
   "cell_type": "code",
   "execution_count": null,
   "id": "64e70c40",
   "metadata": {},
   "outputs": [
    {
     "data": {
      "application/vnd.microsoft.datawrangler.viewer.v0+json": {
       "columns": [
        {
         "name": "index",
         "rawType": "int64",
         "type": "integer"
        },
        {
         "name": "a",
         "rawType": "int64",
         "type": "integer"
        },
        {
         "name": "c",
         "rawType": "int64",
         "type": "integer"
        }
       ],
       "conversionMethod": "pd.DataFrame",
       "ref": "2b97af7e-a15b-4c0a-8dba-132fa475fb59",
       "rows": [
        [
         "0",
         "1",
         "4"
        ],
        [
         "1",
         "2",
         "5"
        ],
        [
         "2",
         "3",
         "6"
        ]
       ],
       "shape": {
        "columns": 2,
        "rows": 3
       }
      },
      "text/html": [
       "<div>\n",
       "<style scoped>\n",
       "    .dataframe tbody tr th:only-of-type {\n",
       "        vertical-align: middle;\n",
       "    }\n",
       "\n",
       "    .dataframe tbody tr th {\n",
       "        vertical-align: top;\n",
       "    }\n",
       "\n",
       "    .dataframe thead th {\n",
       "        text-align: right;\n",
       "    }\n",
       "</style>\n",
       "<table border=\"1\" class=\"dataframe\">\n",
       "  <thead>\n",
       "    <tr style=\"text-align: right;\">\n",
       "      <th></th>\n",
       "      <th>a</th>\n",
       "      <th>c</th>\n",
       "    </tr>\n",
       "  </thead>\n",
       "  <tbody>\n",
       "    <tr>\n",
       "      <th>0</th>\n",
       "      <td>1</td>\n",
       "      <td>4</td>\n",
       "    </tr>\n",
       "    <tr>\n",
       "      <th>1</th>\n",
       "      <td>2</td>\n",
       "      <td>5</td>\n",
       "    </tr>\n",
       "    <tr>\n",
       "      <th>2</th>\n",
       "      <td>3</td>\n",
       "      <td>6</td>\n",
       "    </tr>\n",
       "  </tbody>\n",
       "</table>\n",
       "</div>"
      ],
      "text/plain": [
       "   a  c\n",
       "0  1  4\n",
       "1  2  5\n",
       "2  3  6"
      ]
     },
     "execution_count": 9,
     "metadata": {},
     "output_type": "execute_result"
    }
   ],
   "source": [
    "df = pd.DataFrame({\"A\": [1, 2, 3], \"B\": [4, 5, 6], \"C\": [7, 8, 9]})\n",
    "\n",
    "df.rename(columns={\"A\": \"a\", \"B\": \"c\"})"
   ]
  }
 ],
 "metadata": {
  "kernelspec": {
   "display_name": ".venv",
   "language": "python",
   "name": "python3"
  },
  "language_info": {
   "codemirror_mode": {
    "name": "ipython",
    "version": 3
   },
   "file_extension": ".py",
   "mimetype": "text/x-python",
   "name": "python",
   "nbconvert_exporter": "python",
   "pygments_lexer": "ipython3",
   "version": "3.13.3"
  }
 },
 "nbformat": 4,
 "nbformat_minor": 5
}
