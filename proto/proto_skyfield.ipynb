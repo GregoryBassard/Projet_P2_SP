{
 "cells": [
  {
   "cell_type": "code",
   "execution_count": 2,
   "metadata": {},
   "outputs": [],
   "source": [
    "from skyfield.api import load\n",
    "\n",
    "# Charger les éphémérides DE440\n",
    "kernels = load('de440.bsp')\n",
    "\n",
    "# Identifiants SPICE corrects\n",
    "planets = {\n",
    "    'Mercure': 1,\n",
    "    'Vénus': 2,\n",
    "    'Terre': 3,\n",
    "    'Mars': 4,\n",
    "    'Jupiter': 5,\n",
    "    'Saturne': 6,\n",
    "    'Uranus': 7,\n",
    "    'Neptune': 8,\n",
    "}\n",
    "\n",
    "# Charger le Soleil\n",
    "sun = kernels['sun']\n",
    "\n",
    "# Définir l'échelle de temps\n",
    "ts = load.timescale()\n",
    "time_now = ts.now()\n",
    "days_ahead = 365  # Orbites sur 1 an\n",
    "\n",
    "# Générer une série de dates (un point par jour)\n",
    "times = ts.linspace(time_now, time_now + days_ahead)"
   ]
  },
  {
   "cell_type": "code",
   "execution_count": 12,
   "metadata": {},
   "outputs": [
    {
     "name": "stdout",
     "output_type": "stream",
     "text": [
      "Mercure\n",
      "<class 'skyfield.jpllib.ChebyshevPosition'>\n",
      "Vénus\n",
      "<class 'skyfield.jpllib.ChebyshevPosition'>\n",
      "Terre\n",
      "<class 'skyfield.jpllib.ChebyshevPosition'>\n",
      "Mars\n",
      "<class 'skyfield.jpllib.ChebyshevPosition'>\n",
      "Jupiter\n",
      "<class 'skyfield.jpllib.ChebyshevPosition'>\n",
      "Saturne\n",
      "<class 'skyfield.jpllib.ChebyshevPosition'>\n",
      "Uranus\n",
      "<class 'skyfield.jpllib.ChebyshevPosition'>\n",
      "Neptune\n",
      "<class 'skyfield.jpllib.ChebyshevPosition'>\n"
     ]
    }
   ],
   "source": [
    "for name, pid in planets.items():\n",
    "    print(name);\n",
    "    planet = kernels[pid]\n",
    "    print(type(planet))"
   ]
  }
 ],
 "metadata": {
  "kernelspec": {
   "display_name": ".venv",
   "language": "python",
   "name": "python3"
  },
  "language_info": {
   "codemirror_mode": {
    "name": "ipython",
    "version": 3
   },
   "file_extension": ".py",
   "mimetype": "text/x-python",
   "name": "python",
   "nbconvert_exporter": "python",
   "pygments_lexer": "ipython3",
   "version": "3.13.2"
  }
 },
 "nbformat": 4,
 "nbformat_minor": 2
}
