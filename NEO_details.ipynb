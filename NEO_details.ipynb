{
 "cells": [
  {
   "cell_type": "code",
   "execution_count": 8,
   "metadata": {},
   "outputs": [],
   "source": [
    "import os\n",
    "import requests\n",
    "from dotenv import load_dotenv\n",
    "import pandas as pd\n",
    "import matplotlib.pyplot as plt\n",
    "from app_import.NEOs import NEOs, load_neos\n",
    "\n",
    "# Load API Key from .env file\n",
    "load_dotenv()\n",
    "NASA_API_KEY = os.getenv('NASA_API_KEY')\n",
    "\n",
    "# List of asteroid IDs (NEOs) you are interested in\n",
    "neolist = ['2020 CW', '2020 JJ', '2020 QG', '2020 VT4', '2021 SP', '2021 UA1', \n",
    "           '2022 FD1', '2022 GQ5', '2022 KP6', '2022 SK4', '2022 UR4', '2023 AV', \n",
    "           '2023 BU', '2023 RS', '2023 UR10', '2024 GJ2', '2024 HA', '2024 LH1', \n",
    "           '2024 UZ6', '2024 UG9', '2024 XA', '2025 BP6']\n",
    "\n",
    "class NasaAPINEOClient:\n",
    "    API_ENDPOINT = \"https://api.nasa.gov/neo/rest/v1/neo/\"\n",
    "\n",
    "    def __init__(self, api_key):\n",
    "        self.api_key = api_key\n",
    "        self.data = []\n",
    "\n",
    "    def fetch_neo_details(self, asteroid_id):\n",
    "        \"\"\"\n",
    "        Fetch details of a specific NEO by its asteroid ID.\n",
    "        \"\"\"\n",
    "        response = requests.get(f\"{self.API_ENDPOINT}{asteroid_id}\", params={'api_key': self.api_key})\n",
    "        \n",
    "        if response.status_code == 200:\n",
    "            return response.json()\n",
    "        else:\n",
    "            print(f\"Error fetching {asteroid_id}: {response.status_code}\")\n",
    "            return None\n",
    "\n",
    "    def get_selected_neo_details(self):\n",
    "        \"\"\"\n",
    "        Fetch detailed data for only the NEOs in the 'neolist'.\n",
    "        \"\"\"\n",
    "        for asteroid_id in neolist:\n",
    "            details = self.fetch_neo_details(asteroid_id)\n",
    "            if details:\n",
    "                for approach in details[\"close_approach_data\"]:\n",
    "                    self.data.append({\n",
    "\n",
    "                        \"name\": details[\"name\"],\n",
    "                        \"is_potentially_hazardous\": details.get(\"is_potentially_hazardous_asteroid\"),\n",
    "                        \"is_sentry_object\": details.get(\"is_sentry_object\"),\n",
    "                        \"diameter_min_meters\": details[\"estimated_diameter\"][\"meters\"][\"estimated_diameter_min\"],\n",
    "                        \"diameter_max_meters\": details[\"estimated_diameter\"][\"meters\"][\"estimated_diameter_max\"],\n",
    "                        \"close_approach_date\": approach[\"close_approach_date\"],\n",
    "                        \"relative_velocity_km_h\": approach[\"relative_velocity\"][\"kilometers_per_hour\"],\n",
    "                        \"miss_distance_km\": approach[\"miss_distance\"][\"kilometers\"],\n",
    "                        \"orbiting_body\": approach[\"orbiting_body\"],\n",
    "                        \"first_observation_date\": details[\"orbital_data\"].get(\"first_observation_date\"),\n",
    "                        \"last_observation_date\": details[\"orbital_data\"].get(\"last_observation_date\"),\n",
    "                        \"observations_used\": details[\"orbital_data\"].get(\"observations_used\"),\n",
    "                        \"orbit_uncertainty\": details[\"orbital_data\"].get(\"orbit_uncertainty\"),\n",
    "                        \"minimum_orbit_intersection\": details[\"orbital_data\"].get(\"minimum_orbit_intersection\"),\n",
    "                        \"inclination\": details[\"orbital_data\"].get(\"inclination\"),\n",
    "                        \"orbital_period\": details[\"orbital_data\"].get(\"orbital_period\")\n",
    "                    })\n",
    "\n",
    "        return pd.DataFrame(self.data)\n",
    "\n",
    "if __name__ == \"__main__\":\n",
    "    client = NasaAPINEOClient(NASA_API_KEY)\n",
    "    df = client.get_selected_neo_details()"
   ]
  },
  {
   "cell_type": "code",
   "execution_count": 9,
   "metadata": {},
   "outputs": [
    {
     "name": "stdout",
     "output_type": "stream",
     "text": [
      "             is_potentially_hazardous  is_sentry_object  diameter_min_meters  \\\n",
      "name                                                                           \n",
      "(2020 CW)                       False              True             0.817627   \n",
      "(2020 JJ)                       False             False             2.783268   \n",
      "(2020 QG)                       False             False             2.783268   \n",
      "(2020 VT4)                      False             False             5.041444   \n",
      "(2021 SP)                       False             False             3.737274   \n",
      "(2021 UA1)                      False              True             1.139082   \n",
      "(2022 FD1)                      False             False             1.638910   \n",
      "(2022 GQ5)                      False             False             1.209358   \n",
      "(2022 KP6)                      False             False             3.487827   \n",
      "(2022 SK4)                      False             False             2.262325   \n",
      "(2022 UR4)                      False             False             4.350658   \n",
      "(2023 AV)                       False             False             1.961349   \n",
      "(2023 BU)                       False             False             3.065879   \n",
      "(2023 RS)                       False             False             0.913177   \n",
      "(2023 UR10)                     False              True             2.707416   \n",
      "(2024 GJ2)                      False             False             2.241584   \n",
      "(2024 HA)                       False              True             1.176400   \n",
      "(2024 LH1)                      False             False             1.847375   \n",
      "(2024 UG9)                      False             False             0.799015   \n",
      "(2024 UZ6)                      False             False             1.557955   \n",
      "(2024 XA)                       False              True             1.248979   \n",
      "(2025 BP6)                      False             False             1.149622   \n",
      "\n",
      "             diameter_max_meters  close_approach_count  \\\n",
      "name                                                     \n",
      "(2020 CW)               1.828269                    64   \n",
      "(2020 JJ)               6.223576                     2   \n",
      "(2020 QG)               6.223576                     6   \n",
      "(2020 VT4)             11.273012                   103   \n",
      "(2021 SP)               8.356799                    22   \n",
      "(2021 UA1)              2.547065                    78   \n",
      "(2022 FD1)              3.664713                    29   \n",
      "(2022 GQ5)              2.704207                    31   \n",
      "(2022 KP6)              7.799019                     9   \n",
      "(2022 SK4)              5.058712                    85   \n",
      "(2022 UR4)              9.728368                    11   \n",
      "(2023 AV)               4.385711                    34   \n",
      "(2023 BU)               6.855513                    59   \n",
      "(2023 RS)               2.041926                    10   \n",
      "(2023 UR10)             6.053966                     2   \n",
      "(2024 GJ2)              5.012334                   102   \n",
      "(2024 HA)               2.630510                    91   \n",
      "(2024 LH1)              4.130855                    11   \n",
      "(2024 UG9)              1.786652                    16   \n",
      "(2024 UZ6)              3.483694                    93   \n",
      "(2024 XA)               2.792801                    17   \n",
      "(2025 BP6)              2.570632                    10   \n",
      "\n",
      "             relative_velocity_km_h  miss_distance_km  \\\n",
      "name                                                    \n",
      "(2020 CW)              74020.915658      3.079028e+07   \n",
      "(2020 JJ)              48162.509821      1.219735e+05   \n",
      "(2020 QG)              62028.050520      4.033055e+07   \n",
      "(2020 VT4)             38207.677068      3.390072e+07   \n",
      "(2021 SP)              54678.906868      3.150646e+07   \n",
      "(2021 UA1)             51010.393223      3.760983e+07   \n",
      "(2022 FD1)             66171.390236      2.833992e+07   \n",
      "(2022 GQ5)             56164.817778      3.365178e+07   \n",
      "(2022 KP6)             50501.173636      3.338061e+07   \n",
      "(2022 SK4)             55974.620866      3.601994e+07   \n",
      "(2022 UR4)             60575.178031      2.262135e+07   \n",
      "(2023 AV)              61854.631922      2.784243e+07   \n",
      "(2023 BU)              24251.260365      2.903776e+07   \n",
      "(2023 RS)              49474.833939      2.881251e+07   \n",
      "(2023 UR10)            39131.241874      9.460932e+04   \n",
      "(2024 GJ2)             48727.519926      3.663832e+07   \n",
      "(2024 HA)              64775.178383      2.926281e+07   \n",
      "(2024 LH1)             59459.775122      3.149973e+07   \n",
      "(2024 UG9)             54335.211217      1.402943e+08   \n",
      "(2024 UZ6)             35790.714385      3.763249e+07   \n",
      "(2024 XA)              31090.644621      1.013270e+07   \n",
      "(2025 BP6)             72252.682043      1.306728e+07   \n",
      "\n",
      "                               orbiting_body first_observation_date  \\\n",
      "name                                                                  \n",
      "(2020 CW)     Venus, Merc, Moon, Mars, Earth             2020-02-01   \n",
      "(2020 JJ)                        Moon, Earth             2020-05-04   \n",
      "(2020 QG)                        Moon, Earth             2020-08-16   \n",
      "(2020 VT4)          Moon, Mars, Venus, Earth             2020-11-14   \n",
      "(2021 SP)           Moon, Mars, Venus, Earth             2021-09-15   \n",
      "(2021 UA1)          Moon, Venus, Mars, Earth             2021-10-25   \n",
      "(2022 FD1)                Moon, Venus, Earth             2022-03-24   \n",
      "(2022 GQ5)                 Moon, Mars, Earth             2022-04-08   \n",
      "(2022 KP6)                       Moon, Earth             2022-05-25   \n",
      "(2022 SK4)          Moon, Venus, Merc, Earth             2022-09-20   \n",
      "(2022 UR4)                 Moon, Mars, Earth             2022-10-20   \n",
      "(2023 AV)                 Moon, Venus, Earth             2023-01-13   \n",
      "(2023 BU)                        Moon, Earth             2023-01-21   \n",
      "(2023 RS)                  Moon, Mars, Earth             2023-09-07   \n",
      "(2023 UR10)                      Moon, Earth             2023-10-21   \n",
      "(2024 GJ2)          Moon, Venus, Mars, Earth             2024-04-09   \n",
      "(2024 HA)     Venus, Merc, Moon, Mars, Earth             2024-04-16   \n",
      "(2024 LH1)                       Moon, Earth             2024-06-06   \n",
      "(2024 UG9)   Juptr, Venus, Moon, Mars, Earth             2024-10-30   \n",
      "(2024 UZ6)                Moon, Venus, Earth             2024-10-28   \n",
      "(2024 XA)           Moon, Mars, Venus, Earth             2024-12-01   \n",
      "(2025 BP6)                Moon, Venus, Earth             2025-01-26   \n",
      "\n",
      "            last_observation_date  observations_used  orbit_uncertainty  \\\n",
      "name                                                                      \n",
      "(2020 CW)              2020-02-01                768                  7   \n",
      "(2020 JJ)              2020-05-04                 52                  7   \n",
      "(2020 QG)              2020-08-18                210                  6   \n",
      "(2020 VT4)             2020-11-19               3502                  5   \n",
      "(2021 SP)              2021-09-17                264                  7   \n",
      "(2021 UA1)             2021-10-26               1716                  6   \n",
      "(2022 FD1)             2022-03-25               1827                  6   \n",
      "(2022 GQ5)             2022-04-08                775                  6   \n",
      "(2022 KP6)             2022-05-25                270                  6   \n",
      "(2022 SK4)             2022-09-21               1530                  5   \n",
      "(2022 UR4)             2022-10-20                748                  6   \n",
      "(2023 AV)              2023-01-13                646                  7   \n",
      "(2023 BU)              2023-01-31              14986                  1   \n",
      "(2023 RS)              2023-09-07                330                  6   \n",
      "(2023 UR10)            2023-10-22                 16                  8   \n",
      "(2024 GJ2)             2024-04-11               9996                  3   \n",
      "(2024 HA)              2024-04-16                910                  7   \n",
      "(2024 LH1)             2024-06-06                286                  6   \n",
      "(2024 UG9)             2024-10-30                512                  6   \n",
      "(2024 UZ6)             2024-10-30               2697                  5   \n",
      "(2024 XA)              2024-12-01                595                  6   \n",
      "(2025 BP6)             2025-01-27                180                  7   \n",
      "\n",
      "             minimum_orbit_intersection  inclination  orbital_period  \n",
      "name                                                                  \n",
      "(2020 CW)                      0.000093     5.933613      411.307484  \n",
      "(2020 JJ)                      0.000262    11.186454      675.172065  \n",
      "(2020 QG)                      0.000131     4.737251      964.128238  \n",
      "(2020 VT4)                     0.000078    10.170131      316.038496  \n",
      "(2021 SP)                      0.000049     4.780933      638.756279  \n",
      "(2021 UA1)                     0.000076     0.005992      413.138635  \n",
      "(2022 FD1)                     0.000139     4.490698      747.744953  \n",
      "(2022 GQ5)                     0.000460    15.510297      525.479374  \n",
      "(2022 KP6)                     0.000038     7.207823      723.499534  \n",
      "(2022 SK4)                     0.000084    15.176922      280.451094  \n",
      "(2022 UR4)                     0.000122    11.291979      856.729510  \n",
      "(2023 AV)                      0.000242    10.649153      440.440104  \n",
      "(2023 BU)                      0.000242     3.731840      425.157067  \n",
      "(2023 RS)                      0.000368     9.976059      648.377804  \n",
      "(2023 UR10)                    0.000034     9.378811      653.922576  \n",
      "(2024 GJ2)                     0.000006     1.022074      402.306720  \n",
      "(2024 HA)                      0.000036     0.515672      391.711881  \n",
      "(2024 LH1)                     0.000034    22.412524      474.779354  \n",
      "(2024 UG9)                     0.000015     2.290353     3678.082962  \n",
      "(2024 UZ6)                     0.000058     0.451734      314.022696  \n",
      "(2024 XA)                      0.000016     1.421547      534.726457  \n",
      "(2025 BP6)                     0.000076     4.022031      878.617936  \n"
     ]
    }
   ],
   "source": [
    "# Convert columns to appropriate numerical types\n",
    "df['relative_velocity_km_h'] = pd.to_numeric(df['relative_velocity_km_h'], errors='coerce')\n",
    "df['miss_distance_km'] = pd.to_numeric(df['miss_distance_km'], errors='coerce')\n",
    "df['orbit_uncertainty'] = pd.to_numeric(df['orbit_uncertainty'], errors='coerce')\n",
    "df['minimum_orbit_intersection'] = pd.to_numeric(df['minimum_orbit_intersection'], errors='coerce')\n",
    "df['inclination'] = pd.to_numeric(df['inclination'], errors='coerce')\n",
    "df['orbital_period'] = pd.to_numeric(df['orbital_period'], errors='coerce')\n",
    "\n",
    "# Perform the groupby operation\n",
    "grouped_df = df.groupby('name').agg({\n",
    "    'is_potentially_hazardous': 'first',\n",
    "    'is_sentry_object': 'first',\n",
    "    'diameter_min_meters': 'mean',\n",
    "    'diameter_max_meters': 'mean',\n",
    "    'close_approach_date': 'count',  # Count the number of close approaches\n",
    "    'relative_velocity_km_h': 'mean',\n",
    "    'miss_distance_km': 'mean',\n",
    "    'orbiting_body': lambda x: ', '.join(set(x)),  # Combine unique orbiting bodies\n",
    "    'first_observation_date': 'first',\n",
    "    'last_observation_date': 'first',\n",
    "    'observations_used': 'sum',\n",
    "    'orbit_uncertainty': 'first',\n",
    "    'minimum_orbit_intersection': 'first',\n",
    "    'inclination': 'first',\n",
    "    'orbital_period': 'first'\n",
    "}).rename(columns={'close_approach_date': 'close_approach_count'})\n",
    "\n",
    "print(grouped_df)"
   ]
  },
  {
   "cell_type": "code",
   "execution_count": 10,
   "metadata": {
    "vscode": {
     "languageId": "ruby"
    }
   },
   "outputs": [
    {
     "data": {
      "image/png": "[encoded data removed]",
      "text/plain": [
       "<Figure size 1000x600 with 1 Axes>"
      ]
     },
     "metadata": {},
     "output_type": "display_data"
    }
   ],
   "source": [
    "# Calculate the counts for each category\n",
    "sentry_non_hazardous = len(grouped_df[grouped_df['is_sentry_object'] & ~grouped_df['is_potentially_hazardous']])\n",
    "sentry_hazardous = len(grouped_df[grouped_df['is_sentry_object'] & grouped_df['is_potentially_hazardous']])\n",
    "non_sentry_non_hazardous = len(grouped_df[~grouped_df['is_sentry_object'] & ~grouped_df['is_potentially_hazardous']])\n",
    "non_sentry_hazardous = len(grouped_df[~grouped_df['is_sentry_object'] & grouped_df['is_potentially_hazardous']])\n",
    "\n",
    "# Data for the bar chart\n",
    "categories = ['Sentry Non-Hazardous', 'Sentry Hazardous', 'Non-Sentry Non-Hazardous', 'Non-Sentry Hazardous']\n",
    "counts = [sentry_non_hazardous, sentry_hazardous, non_sentry_non_hazardous, non_sentry_hazardous]\n",
    "\n",
    "# Plot the bar chart\n",
    "plt.figure(figsize=(10, 6))\n",
    "plt.bar(categories, counts, color=['#66b3ff', '#ff9999', '#99ff99', '#ffcc99'])\n",
    "plt.xlabel('Categories')\n",
    "plt.ylabel('Count')\n",
    "plt.title('Breakdown of Asteroid Categories')\n",
    "plt.xticks(rotation=45)\n",
    "plt.show()"
   ]
  },
  {
   "cell_type": "code",
   "execution_count": 11,
   "metadata": {},
   "outputs": [
    {
     "data": {
      "image/png": "[encoded data removed]",
      "text/plain": [
       "<Figure size 1000x600 with 1 Axes>"
      ]
     },
     "metadata": {},
     "output_type": "display_data"
    }
   ],
   "source": [
    "# Filter the grouped_df DataFrame to include only sentry objects\n",
    "sentry_objects = grouped_df[grouped_df['is_sentry_object']]\n",
    "\n",
    "# Plot the size of sentry objects\n",
    "plt.figure(figsize=(10, 6))\n",
    "plt.bar(sentry_objects.index, sentry_objects['diameter_min_meters'], label='Min Diameter (meters)', color='#66b3ff')\n",
    "plt.bar(sentry_objects.index, sentry_objects['diameter_max_meters'], label='Max Diameter (meters)', color='#ff9999', alpha=0.7)\n",
    "\n",
    "plt.xlabel('Sentry Objects')\n",
    "plt.ylabel('Diameter (meters)')\n",
    "plt.title('Size of Sentry Objects')\n",
    "plt.xticks(rotation=45, ha='right')\n",
    "plt.legend()\n",
    "plt.tight_layout()\n",
    "plt.show()"
   ]
  },
  {
   "cell_type": "code",
   "execution_count": 12,
   "metadata": {},
   "outputs": [
    {
     "data": {
      "application/vnd.plotly.v1+json": {
       "config": {
        "plotlyServerURL": "https://plot.ly"
       },
       "data": [
        {
         "alignmentgroup": "True",
         "hovertemplate": "variable=diameter_min_meters<br>Asteroid Name=%{x}<br>Diameter (meters)=%{y}<extra></extra>",
         "legendgroup": "diameter_min_meters",
         "marker": {
          "color": "#636efa",
          "pattern": {
           "shape": ""
          }
         },
         "name": "diameter_min_meters",
         "offsetgroup": "diameter_min_meters",
         "orientation": "v",
         "showlegend": true,
         "textposition": "auto",
         "type": "bar",
         "x": [
          "(2020 CW)",
          "(2020 JJ)",
          "(2020 QG)",
          "(2020 VT4)",
          "(2021 SP)",
          "(2021 UA1)",
          "(2022 FD1)",
          "(2022 GQ5)",
          "(2022 KP6)",
          "(2022 SK4)",
          "(2022 UR4)",
          "(2023 AV)",
          "(2023 BU)",
          "(2023 RS)",
          "(2023 UR10)",
          "(2024 GJ2)",
          "(2024 HA)",
          "(2024 LH1)",
          "(2024 UG9)",
          "(2024 UZ6)",
          "(2024 XA)",
          "(2025 BP6)"
         ],
         "xaxis": "x",
         "y": {
          "bdata": "bW+pHv8p6j9Q9oTYIUQGQFD2hNghRAZAvpB7YnAqFECquAUU8OUNQMRlSQOuOfI/YJT5Lvk4+j++kAkNiFnzPxyJGgQS5wtA7GPQzD0ZAkBQzRr5EmcRQDqCS/SvYf8/c45lceuGCEDTZH8GvzjtP0RYHKzJqAVAzVjkesPuAUCbWeexiNLyP7oF37TYjv0/HXlYE4iR6T+gPqB5Yu34P5plG+zQ+/M/Tc4mytlk8j8=",
          "dtype": "f8"
         },
         "yaxis": "y"
        },
        {
         "alignmentgroup": "True",
         "hovertemplate": "variable=diameter_max_meters<br>Asteroid Name=%{x}<br>Diameter (meters)=%{y}<extra></extra>",
         "legendgroup": "diameter_max_meters",
         "marker": {
          "color": "#EF553B",
          "pattern": {
           "shape": ""
          }
         },
         "name": "diameter_max_meters",
         "offsetgroup": "diameter_max_meters",
         "orientation": "v",
         "showlegend": true,
         "textposition": "auto",
         "type": "bar",
         "x": [
          "(2020 CW)",
          "(2020 JJ)",
          "(2020 QG)",
          "(2020 VT4)",
          "(2021 SP)",
          "(2021 UA1)",
          "(2022 FD1)",
          "(2022 GQ5)",
          "(2022 KP6)",
          "(2022 SK4)",
          "(2022 UR4)",
          "(2023 AV)",
          "(2023 BU)",
          "(2023 RS)",
          "(2023 UR10)",
          "(2024 GJ2)",
          "(2024 HA)",
          "(2024 LH1)",
          "(2024 UG9)",
          "(2024 UZ6)",
          "(2024 XA)",
          "(2025 BP6)"
         ],
         "xaxis": "x",
         "y": {
          "bdata": "nKTZepZA/T/NroEJ8eQYQM2ugQnx5BhArjzWQsiLJkB1syZqrrYgQOaUhnZjYARAM8X1F1VRDUDyByFuN6IFQL454wkyMh9AxiwlEh88FEDh5LKd7HQjQFPW0L33ihFA1qPOrgtsG0A2dqU/3VUAQDm5Ft5CNxhA4WglNqEMFEAp+EblSAsFQE0SRez+hRBAKlUvciCW/D8K9kremt4LQG1+KAKoVwZA9MWeuaeQBEA=",
          "dtype": "f8"
         },
         "yaxis": "y"
        }
       ],
       "layout": {
        "barmode": "group",
        "legend": {
         "title": {
          "text": "Diameter Type"
         },
         "tracegroupgap": 0
        },
        "template": {
         "data": {
          "bar": [
           {
            "error_x": {
             "color": "#2a3f5f"
            },
            "error_y": {
             "color": "#2a3f5f"
            },
            "marker": {
             "line": {
              "color": "#E5ECF6",
              "width": 0.5
             },
             "pattern": {
              "fillmode": "overlay",
              "size": 10,
              "solidity": 0.2
             }
            },
            "type": "bar"
           }
          ],
          "barpolar": [
           {
            "marker": {
             "line": {
              "color": "#E5ECF6",
              "width": 0.5
             },
             "pattern": {
              "fillmode": "overlay",
              "size": 10,
              "solidity": 0.2
             }
            },
            "type": "barpolar"
           }
          ],
          "carpet": [
           {
            "aaxis": {
             "endlinecolor": "#2a3f5f",
             "gridcolor": "white",
             "linecolor": "white",
             "minorgridcolor": "white",
             "startlinecolor": "#2a3f5f"
            },
            "baxis": {
             "endlinecolor": "#2a3f5f",
             "gridcolor": "white",
             "linecolor": "white",
             "minorgridcolor": "white",
             "startlinecolor": "#2a3f5f"
            },
            "type": "carpet"
           }
          ],
          "choropleth": [
           {
            "colorbar": {
             "outlinewidth": 0,
             "ticks": ""
            },
            "type": "choropleth"
           }
          ],
          "contour": [
           {
            "colorbar": {
             "outlinewidth": 0,
             "ticks": ""
            },
            "colorscale": [
             [
              0,
              "#0d0887"
             ],
             [
              0.1111111111111111,
              "#46039f"
             ],
             [
              0.2222222222222222,
              "#7201a8"
             ],
             [
              0.3333333333333333,
              "#9c179e"
             ],
             [
              0.4444444444444444,
              "#bd3786"
             ],
             [
              0.5555555555555556,
              "#d8576b"
             ],
             [
              0.6666666666666666,
              "#ed7953"
             ],
             [
              0.7777777777777778,
              "#fb9f3a"
             ],
             [
              0.8888888888888888,
              "#fdca26"
             ],
             [
              1,
              "#f0f921"
             ]
            ],
            "type": "contour"
           }
          ],
          "contourcarpet": [
           {
            "colorbar": {
             "outlinewidth": 0,
             "ticks": ""
            },
            "type": "contourcarpet"
           }
          ],
          "heatmap": [
           {
            "colorbar": {
             "outlinewidth": 0,
             "ticks": ""
            },
            "colorscale": [
             [
              0,
              "#0d0887"
             ],
             [
              0.1111111111111111,
              "#46039f"
             ],
             [
              0.2222222222222222,
              "#7201a8"
             ],
             [
              0.3333333333333333,
              "#9c179e"
             ],
             [
              0.4444444444444444,
              "#bd3786"
             ],
             [
              0.5555555555555556,
              "#d8576b"
             ],
             [
              0.6666666666666666,
              "#ed7953"
             ],
             [
              0.7777777777777778,
              "#fb9f3a"
             ],
             [
              0.8888888888888888,
              "#fdca26"
             ],
             [
              1,
              "#f0f921"
             ]
            ],
            "type": "heatmap"
           }
          ],
          "histogram": [
           {
            "marker": {
             "pattern": {
              "fillmode": "overlay",
              "size": 10,
              "solidity": 0.2
             }
            },
            "type": "histogram"
           }
          ],
          "histogram2d": [
           {
            "colorbar": {
             "outlinewidth": 0,
             "ticks": ""
            },
            "colorscale": [
             [
              0,
              "#0d0887"
             ],
             [
              0.1111111111111111,
              "#46039f"
             ],
             [
              0.2222222222222222,
              "#7201a8"
             ],
             [
              0.3333333333333333,
              "#9c179e"
             ],
             [
              0.4444444444444444,
              "#bd3786"
             ],
             [
              0.5555555555555556,
              "#d8576b"
             ],
             [
              0.6666666666666666,
              "#ed7953"
             ],
             [
              0.7777777777777778,
              "#fb9f3a"
             ],
             [
              0.8888888888888888,
              "#fdca26"
             ],
             [
              1,
              "#f0f921"
             ]
            ],
            "type": "histogram2d"
           }
          ],
          "histogram2dcontour": [
           {
            "colorbar": {
             "outlinewidth": 0,
             "ticks": ""
            },
            "colorscale": [
             [
              0,
              "#0d0887"
             ],
             [
              0.1111111111111111,
              "#46039f"
             ],
             [
              0.2222222222222222,
              "#7201a8"
             ],
             [
              0.3333333333333333,
              "#9c179e"
             ],
             [
              0.4444444444444444,
              "#bd3786"
             ],
             [
              0.5555555555555556,
              "#d8576b"
             ],
             [
              0.6666666666666666,
              "#ed7953"
             ],
             [
              0.7777777777777778,
              "#fb9f3a"
             ],
             [
              0.8888888888888888,
              "#fdca26"
             ],
             [
              1,
              "#f0f921"
             ]
            ],
            "type": "histogram2dcontour"
           }
          ],
          "mesh3d": [
           {
            "colorbar": {
             "outlinewidth": 0,
             "ticks": ""
            },
            "type": "mesh3d"
           }
          ],
          "parcoords": [
           {
            "line": {
             "colorbar": {
              "outlinewidth": 0,
              "ticks": ""
             }
            },
            "type": "parcoords"
           }
          ],
          "pie": [
           {
            "automargin": true,
            "type": "pie"
           }
          ],
          "scatter": [
           {
            "fillpattern": {
             "fillmode": "overlay",
             "size": 10,
             "solidity": 0.2
            },
            "type": "scatter"
           }
          ],
          "scatter3d": [
           {
            "line": {
             "colorbar": {
              "outlinewidth": 0,
              "ticks": ""
             }
            },
            "marker": {
             "colorbar": {
              "outlinewidth": 0,
              "ticks": ""
             }
            },
            "type": "scatter3d"
           }
          ],
          "scattercarpet": [
           {
            "marker": {
             "colorbar": {
              "outlinewidth": 0,
              "ticks": ""
             }
            },
            "type": "scattercarpet"
           }
          ],
          "scattergeo": [
           {
            "marker": {
             "colorbar": {
              "outlinewidth": 0,
              "ticks": ""
             }
            },
            "type": "scattergeo"
           }
          ],
          "scattergl": [
           {
            "marker": {
             "colorbar": {
              "outlinewidth": 0,
              "ticks": ""
             }
            },
            "type": "scattergl"
           }
          ],
          "scattermap": [
           {
            "marker": {
             "colorbar": {
              "outlinewidth": 0,
              "ticks": ""
             }
            },
            "type": "scattermap"
           }
          ],
          "scattermapbox": [
           {
            "marker": {
             "colorbar": {
              "outlinewidth": 0,
              "ticks": ""
             }
            },
            "type": "scattermapbox"
           }
          ],
          "scatterpolar": [
           {
            "marker": {
             "colorbar": {
              "outlinewidth": 0,
              "ticks": ""
             }
            },
            "type": "scatterpolar"
           }
          ],
          "scatterpolargl": [
           {
            "marker": {
             "colorbar": {
              "outlinewidth": 0,
              "ticks": ""
             }
            },
            "type": "scatterpolargl"
           }
          ],
          "scatterternary": [
           {
            "marker": {
             "colorbar": {
              "outlinewidth": 0,
              "ticks": ""
             }
            },
            "type": "scatterternary"
           }
          ],
          "surface": [
           {
            "colorbar": {
             "outlinewidth": 0,
             "ticks": ""
            },
            "colorscale": [
             [
              0,
              "#0d0887"
             ],
             [
              0.1111111111111111,
              "#46039f"
             ],
             [
              0.2222222222222222,
              "#7201a8"
             ],
             [
              0.3333333333333333,
              "#9c179e"
             ],
             [
              0.4444444444444444,
              "#bd3786"
             ],
             [
              0.5555555555555556,
              "#d8576b"
             ],
             [
              0.6666666666666666,
              "#ed7953"
             ],
             [
              0.7777777777777778,
              "#fb9f3a"
             ],
             [
              0.8888888888888888,
              "#fdca26"
             ],
             [
              1,
              "#f0f921"
             ]
            ],
            "type": "surface"
           }
          ],
          "table": [
           {
            "cells": {
             "fill": {
              "color": "#EBF0F8"
             },
             "line": {
              "color": "white"
             }
            },
            "header": {
             "fill": {
              "color": "#C8D4E3"
             },
             "line": {
              "color": "white"
             }
            },
            "type": "table"
           }
          ]
         },
         "layout": {
          "annotationdefaults": {
           "arrowcolor": "#2a3f5f",
           "arrowhead": 0,
           "arrowwidth": 1
          },
          "autotypenumbers": "strict",
          "coloraxis": {
           "colorbar": {
            "outlinewidth": 0,
            "ticks": ""
           }
          },
          "colorscale": {
           "diverging": [
            [
             0,
             "#8e0152"
            ],
            [
             0.1,
             "#c51b7d"
            ],
            [
             0.2,
             "#de77ae"
            ],
            [
             0.3,
             "#f1b6da"
            ],
            [
             0.4,
             "#fde0ef"
            ],
            [
             0.5,
             "#f7f7f7"
            ],
            [
             0.6,
             "#e6f5d0"
            ],
            [
             0.7,
             "#b8e186"
            ],
            [
             0.8,
             "#7fbc41"
            ],
            [
             0.9,
             "#4d9221"
            ],
            [
             1,
             "#276419"
            ]
           ],
           "sequential": [
            [
             0,
             "#0d0887"
            ],
            [
             0.1111111111111111,
             "#46039f"
            ],
            [
             0.2222222222222222,
             "#7201a8"
            ],
            [
             0.3333333333333333,
             "#9c179e"
            ],
            [
             0.4444444444444444,
             "#bd3786"
            ],
            [
             0.5555555555555556,
             "#d8576b"
            ],
            [
             0.6666666666666666,
             "#ed7953"
            ],
            [
             0.7777777777777778,
             "#fb9f3a"
            ],
            [
             0.8888888888888888,
             "#fdca26"
            ],
            [
             1,
             "#f0f921"
            ]
           ],
           "sequentialminus": [
            [
             0,
             "#0d0887"
            ],
            [
             0.1111111111111111,
             "#46039f"
            ],
            [
             0.2222222222222222,
             "#7201a8"
            ],
            [
             0.3333333333333333,
             "#9c179e"
            ],
            [
             0.4444444444444444,
             "#bd3786"
            ],
            [
             0.5555555555555556,
             "#d8576b"
            ],
            [
             0.6666666666666666,
             "#ed7953"
            ],
            [
             0.7777777777777778,
             "#fb9f3a"
            ],
            [
             0.8888888888888888,
             "#fdca26"
            ],
            [
             1,
             "#f0f921"
            ]
           ]
          },
          "colorway": [
           "#636efa",
           "#EF553B",
           "#00cc96",
           "#ab63fa",
           "#FFA15A",
           "#19d3f3",
           "#FF6692",
           "#B6E880",
           "#FF97FF",
           "#FECB52"
          ],
          "font": {
           "color": "#2a3f5f"
          },
          "geo": {
           "bgcolor": "white",
           "lakecolor": "white",
           "landcolor": "#E5ECF6",
           "showlakes": true,
           "showland": true,
           "subunitcolor": "white"
          },
          "hoverlabel": {
           "align": "left"
          },
          "hovermode": "closest",
          "mapbox": {
           "style": "light"
          },
          "paper_bgcolor": "white",
          "plot_bgcolor": "#E5ECF6",
          "polar": {
           "angularaxis": {
            "gridcolor": "white",
            "linecolor": "white",
            "ticks": ""
           },
           "bgcolor": "#E5ECF6",
           "radialaxis": {
            "gridcolor": "white",
            "linecolor": "white",
            "ticks": ""
           }
          },
          "scene": {
           "xaxis": {
            "backgroundcolor": "#E5ECF6",
            "gridcolor": "white",
            "gridwidth": 2,
            "linecolor": "white",
            "showbackground": true,
            "ticks": "",
            "zerolinecolor": "white"
           },
           "yaxis": {
            "backgroundcolor": "#E5ECF6",
            "gridcolor": "white",
            "gridwidth": 2,
            "linecolor": "white",
            "showbackground": true,
            "ticks": "",
            "zerolinecolor": "white"
           },
           "zaxis": {
            "backgroundcolor": "#E5ECF6",
            "gridcolor": "white",
            "gridwidth": 2,
            "linecolor": "white",
            "showbackground": true,
            "ticks": "",
            "zerolinecolor": "white"
           }
          },
          "shapedefaults": {
           "line": {
            "color": "#2a3f5f"
           }
          },
          "ternary": {
           "aaxis": {
            "gridcolor": "white",
            "linecolor": "white",
            "ticks": ""
           },
           "baxis": {
            "gridcolor": "white",
            "linecolor": "white",
            "ticks": ""
           },
           "bgcolor": "#E5ECF6",
           "caxis": {
            "gridcolor": "white",
            "linecolor": "white",
            "ticks": ""
           }
          },
          "title": {
           "x": 0.05
          },
          "xaxis": {
           "automargin": true,
           "gridcolor": "white",
           "linecolor": "white",
           "ticks": "",
           "title": {
            "standoff": 15
           },
           "zerolinecolor": "white",
           "zerolinewidth": 2
          },
          "yaxis": {
           "automargin": true,
           "gridcolor": "white",
           "linecolor": "white",
           "ticks": "",
           "title": {
            "standoff": 15
           },
           "zerolinecolor": "white",
           "zerolinewidth": 2
          }
         }
        },
        "title": {
         "text": "Average Diameter of Asteroids"
        },
        "xaxis": {
         "anchor": "y",
         "domain": [
          0,
          1
         ],
         "tickangle": 45,
         "title": {
          "text": "Asteroid Name"
         }
        },
        "yaxis": {
         "anchor": "x",
         "domain": [
          0,
          1
         ],
         "title": {
          "text": "Diameter (meters)"
         }
        }
       }
      }
     },
     "metadata": {},
     "output_type": "display_data"
    }
   ],
   "source": [
    "import plotly.express as px\n",
    "\n",
    "# Create an interactive bar chart\n",
    "fig = px.bar(\n",
    "    grouped_df.reset_index(),\n",
    "    x='name',\n",
    "    y=['diameter_min_meters', 'diameter_max_meters'],\n",
    "    title='Average Diameter of Asteroids',\n",
    "    labels={'value': 'Diameter (meters)', 'name': 'Asteroid Name'},\n",
    "    barmode='group'\n",
    ")\n",
    "\n",
    "# Customize the layout\n",
    "fig.update_layout(\n",
    "    xaxis_title=\"Asteroid Name\",\n",
    "    yaxis_title=\"Diameter (meters)\",\n",
    "    legend_title=\"Diameter Type\",\n",
    "    xaxis_tickangle=45\n",
    ")\n",
    "\n",
    "# Show the plot\n",
    "fig.show()"
   ]
  },
  {
   "cell_type": "code",
   "execution_count": 14,
   "metadata": {},
   "outputs": [
    {
     "ename": "AttributeError",
     "evalue": "'NEOs' object has no attribute 'get_data_and_summary'",
     "output_type": "error",
     "traceback": [
      "\u001b[31m---------------------------------------------------------------------------\u001b[39m",
      "\u001b[31mAttributeError\u001b[39m                            Traceback (most recent call last)",
      "\u001b[36mCell\u001b[39m\u001b[36m \u001b[39m\u001b[32mIn[14]\u001b[39m\u001b[32m, line 4\u001b[39m\n\u001b[32m      1\u001b[39m neos= load_neos(\u001b[32m1e-6\u001b[39m, -\u001b[32m4\u001b[39m, \u001b[32m0\u001b[39m)\n\u001b[32m      3\u001b[39m \u001b[38;5;28;01mfor\u001b[39;00m neo \u001b[38;5;129;01min\u001b[39;00m neos:\n\u001b[32m----> \u001b[39m\u001b[32m4\u001b[39m     \u001b[43mneo\u001b[49m\u001b[43m.\u001b[49m\u001b[43mget_data_and_summary\u001b[49m()\n",
      "\u001b[31mAttributeError\u001b[39m: 'NEOs' object has no attribute 'get_data_and_summary'"
     ]
    }
   ],
   "source": [
    "neos= load_neos(1e-6, -4, 0)\n",
    "\n",
    "for neo in neos:\n",
    "    neo.get_data_and_summary()"
   ]
  }
 ],
 "metadata": {
  "kernelspec": {
   "display_name": ".venv",
   "language": "python",
   "name": "python3"
  },
  "language_info": {
   "codemirror_mode": {
    "name": "ipython",
    "version": 3
   },
   "file_extension": ".py",
   "mimetype": "text/x-python",
   "name": "python",
   "nbconvert_exporter": "python",
   "pygments_lexer": "ipython3",
   "version": "3.13.3"
  }
 },
 "nbformat": 4,
 "nbformat_minor": 2
}
